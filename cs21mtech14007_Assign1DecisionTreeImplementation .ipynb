{
  "nbformat": 4,
  "nbformat_minor": 0,
  "metadata": {
    "colab": {
      "name": "cs21mtech14007_Assign1DecisionTreeImplementation.ipynb",
      "provenance": [],
      "collapsed_sections": []
    },
    "kernelspec": {
      "display_name": "Python 3",
      "name": "python3"
    },
    "language_info": {
      "name": "python"
    }
  },
  "cells": [
    {
      "cell_type": "markdown",
      "metadata": {
        "id": "QxVuw__kRwhY"
      },
      "source": [
        "*  Import csv  for file reading\n",
        "*   Import numpy for numpy operations\n",
        "*   Import random for random sampling\n",
        "*   Import matplotlib and scipy.interpolate for ploting graphs\n"
      ]
    },
    {
      "cell_type": "code",
      "metadata": {
        "id": "jrRBY3HsZQbg"
      },
      "source": [
        "import csv\n",
        "from random import randrange\n",
        "import matplotlib.pyplot as plt\n",
        "from scipy.interpolate import make_interp_spline\n",
        "import numpy as np\n",
        "import pandas as pd\n",
        "# Enter You Name Here\n",
        "myname = \"Aditi Bagora\"\n"
      ],
      "execution_count": 1,
      "outputs": []
    },
    {
      "cell_type": "markdown",
      "metadata": {
        "id": "12VEczvFL6Hz"
      },
      "source": [
        "***Created a class called node to store information gain, left, right subtrees and data and class label associated to that node***"
      ]
    },
    {
      "cell_type": "code",
      "metadata": {
        "id": "VLwFki_Aae7p"
      },
      "source": [
        "class Node():\n",
        "        def __init__(self, index=-1, value=-1, left=None, right=None, info_gain=-1, cvalue=None):\n",
        "            ''' constructor '''\n",
        "            # for decision node\n",
        "            self.Index = index\n",
        "            self.Value = value\n",
        "            self.Left = left\n",
        "            self.Right = right\n",
        "            self.Left_subtree = left\n",
        "            self.Right_subtree = right\n",
        "            self.Info_gain = info_gain\n",
        "            # for leaf node\n",
        "            self.Cvalue = cvalue"
      ],
      "execution_count": 2,
      "outputs": []
    },
    {
      "cell_type": "markdown",
      "metadata": {
        "id": "126snEPAMSQv"
      },
      "source": [
        "**Created a class called decision tree has two parameters root node and minimin sample split value**.\n",
        "\n",
        "***Class contains a main method learn that uses recursion to build the tree and  various helper methods to find best split,Information gain,Entropy,GiniIndex value, Printing of tree,classification,ploting of accuracies,Maximum class label count***"
      ]
    },
    {
      "cell_type": "code",
      "metadata": {
        "id": "x4kGxxh8aZSU"
      },
      "source": [
        "class DecisionTree():\n",
        "        root = Node()\n",
        "        min_samples_split = 0\n",
        "        def learn(self, training_set, method):\n",
        "              num_samples, num_features = np.shape(training_set)\n",
        "              if num_samples>=self.min_samples_split:\n",
        "                node = self.get_split(training_set, method)\n",
        "                # check if information gain is positive\n",
        "                if node.Info_gain > 0:\n",
        "                    node.Left_subtree = self.learn(node.Left, method)\n",
        "                    node.Right_subtree = self.learn(node.Right, method)\n",
        "                    return Node(node.Index, node.Value, node.Left_subtree,\n",
        "                                node.Right_subtree, node.Info_gain, None)\n",
        "                return Node(cvalue=node.Cvalue)\n",
        "              return Node(cvalue=self.Majority_Class_Label(training_set[:,num_features-1]))\n",
        "\n",
        "            # implement this function\n",
        "        def print_tree(self, tree=None, indent=\" \"):\n",
        "            if tree is None:\n",
        "                return\n",
        "            if tree.Cvalue is not None:\n",
        "                print(tree.Cvalue)\n",
        "            else:\n",
        "                print(\"X_\" + str(tree.Index), \"<=\", tree.Value, \"?\", tree.Info_gain)\n",
        "                print(\"%sleft:\" % (indent), end=\"\")\n",
        "                self.print_tree(tree.Left_subtree, indent + indent)\n",
        "                print(\"%sright:\" % (indent), end=\"\")\n",
        "                self.print_tree(tree.Right_subtree, indent + indent)\n",
        "\n",
        "        def classify(self, test_instance, tree):\n",
        "           if tree is not None:\n",
        "            if tree.Cvalue is not None:\n",
        "                return tree.Cvalue\n",
        "            feature_val = test_instance[tree.Index]\n",
        "            if float(feature_val) <= float(tree.Value):\n",
        "                return self.classify(test_instance, tree.Left_subtree)\n",
        "            else:\n",
        "                return self.classify(test_instance, tree.Right_subtree)\n",
        "\n",
        "        def get_split(self, dataset, method):\n",
        "            num_samples, num_features = np.shape(dataset)\n",
        "            dataset_array=np.array([row for row in dataset])\n",
        "            optimal_split = Node()\n",
        "            max_gain = -float(\"inf\")\n",
        "            for feature_index in range(num_features-1):\n",
        "                feature_values = dataset_array[:, feature_index]\n",
        "                possible_values = np.unique(feature_values)\n",
        "                for val in possible_values:\n",
        "                    dataset_left = np.array([row for row in dataset if row[feature_index] <= val])\n",
        "                    dataset_right = np.array([row for row in dataset if row[feature_index] > val])\n",
        "                    # check if dataset are not null\n",
        "                    if len(dataset_left) > 0 and len(dataset_right) > 0:\n",
        "                        parent, left_y, right_y = dataset_array[:, num_features-1], dataset_left[:, num_features-1], dataset_right[:, num_features-1]\n",
        "                        # Information gain\n",
        "                        curr_gain, class_label = self.Information_Gain(parent, left_y, right_y, method)\n",
        "                        # Find optimal split \n",
        "                        if curr_gain > max_gain:\n",
        "                            optimal_split.Index = feature_index\n",
        "                            optimal_split.Value = val\n",
        "                            optimal_split.Left = dataset_left\n",
        "                            optimal_split.Right = dataset_right\n",
        "                            optimal_split.Info_gain = curr_gain\n",
        "                            optimal_split.Cvalue = class_label\n",
        "                            max_gain = curr_gain\n",
        "\n",
        "            # return optimal split\n",
        "            return optimal_split\n",
        "            \n",
        "        def Information_Gain(self, parent, l_child, r_child, method):\n",
        "            ''' function to compute variance reduction '''\n",
        "            probability_l = len(l_child) / len(parent)\n",
        "            probability_r = len(r_child) / len(parent)\n",
        "            if method == 'Entropy':\n",
        "                EParent = self.Entropy(parent)\n",
        "                Elchild = self.Entropy(l_child)\n",
        "                Erchild = self.Entropy(r_child)\n",
        "                Gain = EParent - (probability_l * Elchild + probability_r * Erchild)\n",
        "                if Elchild == 0 or Elchild == 1:\n",
        "                    class_label = l_child[0]\n",
        "                elif Erchild == 0 or Erchild == 1:\n",
        "                    class_label = r_child[0]\n",
        "                else:\n",
        "                    class_label = self.Majority_Class_Label(parent)\n",
        "            else:\n",
        "                GParent = self.GiniIndex(parent)\n",
        "                Glchild = self.GiniIndex(l_child)\n",
        "                Grchild = self.GiniIndex(r_child)\n",
        "                Gain = GParent - (probability_l * Glchild + probability_r * Grchild)\n",
        "                if Glchild == 0 or Glchild == 1:\n",
        "                    class_label = l_child[0]\n",
        "                elif Grchild == 0 or Grchild == 1:\n",
        "                    class_label = r_child[0]\n",
        "                else:\n",
        "                    class_label = self.Majority_Class_Label(parent)\n",
        "            return Gain, class_label\n",
        "\n",
        "        def Majority_Class_Label(self, dataset_label):\n",
        "             unique_class_label = np.unique(dataset_label)\n",
        "             max_label_count=0\n",
        "             for class_label in unique_class_label:\n",
        "                class_label_count = len(dataset_label[dataset_label == class_label])\n",
        "                if class_label_count > max_label_count:\n",
        "                  max_label_count= class_label_count\n",
        "                  max_label = class_label\n",
        "             return max_label\n",
        "\n",
        "        def Entropy(self, child):\n",
        "            entropy = 0\n",
        "            unique_class_label = np.unique(child)\n",
        "            for class_label in unique_class_label:\n",
        "                probability_class_label = len(child[child == class_label]) / len(child)\n",
        "                entropy += (-probability_class_label * np.log2(probability_class_label))\n",
        "            return entropy\n",
        "\n",
        "        def GiniIndex(self, child):\n",
        "            GiniIndex = 0\n",
        "            unique_class_label = np.unique(child)\n",
        "            for class_label in unique_class_label:\n",
        "                probability_class_label = len(child[child == class_label]) / len(child)\n",
        "                GiniIndex += probability_class_label * probability_class_label\n",
        "            return 1 - GiniIndex\n",
        "\n",
        "        def plot_accuracy(self, accuracy_plot):\n",
        "           k=0\n",
        "           for acc_list in  accuracy_plot:\n",
        "               y1=list()\n",
        "               for i in range(len(acc_list)):\n",
        "                  y1.append(i+1)\n",
        "               X_Y_Spline = make_interp_spline(y1, acc_list)\n",
        "               X_ = np.linspace(1, 10, 500)\n",
        "               Y_ = X_Y_Spline(X_)  \n",
        "               if k==0:\n",
        "                 label='Entropy'\n",
        "               if k==1:\n",
        "                 label='Gini Index'\n",
        "               if k==2:\n",
        "                 label='Pre Pruning'    \n",
        "               k=k+1 \n",
        "               plt.plot(X_, Y_, label=label)\n",
        "           plt.xlabel('kth - fold')\n",
        "           plt.ylabel('Accuracy')\n",
        "           plt.title('Accuracy Plot ')\n",
        "           plt.legend()\n",
        "           plt.show()\n",
        "\n",
        "        def plot_modelselection(self, accuracy_plot):\n",
        "           y1=list()\n",
        "           for i in range(len(accuracy_plot)):\n",
        "                  y1.append(10*i)\n",
        "           plt.plot(y1, accuracy_plot, label=\"Accuracy\")\n",
        "           plt.xlabel('kth - fold')\n",
        "           plt.ylabel('Accuracy')\n",
        "           plt.title('Accuracy Plot ')\n",
        "           plt.legend()\n",
        "           plt.show()\n",
        "\n",
        "        #Defined but not used   \n",
        "        def reduced_error_pruning(self, tree):\n",
        "           if tree.Left_subtree is not None:\n",
        "            while tree.Left_subtree.Info_gain != 0:\n",
        "                tree = tree.Left_subtree\n",
        "            data_set_Combined = tree.Left+tree.Right\n",
        "            unique_class_label = np.unique(data_set_Combined)\n",
        "            class_label_f = -1\n",
        "            for class_label in unique_class_label:\n",
        "                count = len(data_set_Combined[data_set_Combined == class_label])\n",
        "                max_count = count\n",
        "                if count > max_count:\n",
        "                    class_label_f = class_label\n",
        "            tree = Node(cvalue=class_label_f)\n",
        "            return tree"
      ],
      "execution_count": 3,
      "outputs": []
    },
    {
      "cell_type": "markdown",
      "metadata": {
        "id": "qTu24yp6NqBu"
      },
      "source": [
        "**Main method that calls various combinations and setting based on user input and perform k fold cross validation on each setting and calculating mean accuracies in different settings and plotting them**"
      ]
    },
    {
      "cell_type": "code",
      "metadata": {
        "id": "WWxxHEbOZx3d"
      },
      "source": [
        "def run_decision_tree():\n",
        "        # Load data set\n",
        "        with open(\"wine-dataset.csv\") as f:\n",
        "            next(f, None)\n",
        "            data = [tuple(line) for line in csv.reader(f, delimiter=\",\")]\n",
        "        print(\"Number of records: %d\" % len(data))\n",
        "        # Split training/test sets\n",
        "        # You need to modify the following code for cross validation.\n",
        "        K = 10\n",
        "        accuracy_mean = 0\n",
        "        folds = CreateFoldsWithRandomStartifiedSampling(data, K)\n",
        "        choice = 1\n",
        "        accuracy_plot = list()\n",
        "        while 1:\n",
        "            accuracy_mean = 0\n",
        "            accuracy_list = list()\n",
        "            for i in range(K):\n",
        "                training_set, test_set = GetTrainingAndTestDataForFold(i, folds)\n",
        "                if choice == 1:\n",
        "                   accuracy = Decision_Tree_Entropy_Setting(training_set,test_set)\n",
        "                elif choice == 2:\n",
        "                   accuracy = Decision_Tree_GiniIndex_Setting(training_set,test_set)\n",
        "                elif choice == 3:\n",
        "                    ''' accuracy_mean = sum(accuracy_plot[0]) / len(accuracy_plot[0])\n",
        "                    sample_size = Model_Selection_PrePruning(training_set, accuracy_mean)'''\n",
        "                    accuracy = Decision_Tree_PrePruning_Setting(training_set, test_set)\n",
        "                accuracy_list.append(accuracy)\n",
        "                accuracy_mean=sum(accuracy_list)/len(accuracy_list)\n",
        "            print(\"Accuracy Mean: %.4f\" % float(accuracy_mean))\n",
        "            accuracy_plot.append(accuracy_list)\n",
        "            print(\"Want Improve accuracy?  \\n 1. Yes(y) \\n 2.No(n)\")\n",
        "            Iscontinue = input()\n",
        "            if Iscontinue == 'y':\n",
        "                print(\"Select a method \\n 1. GiniIndex \\n 2.Pruning\")\n",
        "                var = int(input())\n",
        "                if var == 2:\n",
        "                    choice = 3\n",
        "                else:\n",
        "                    choice = 2\n",
        "            else:\n",
        "                break ;\n",
        "        tree=DecisionTree() \n",
        "        WriteToFile(f,accuracy_plot)       \n",
        "        tree.plot_accuracy(accuracy_plot)\n"
      ],
      "execution_count": 4,
      "outputs": []
    },
    {
      "cell_type": "markdown",
      "metadata": {
        "id": "op0uh6yjKjmn"
      },
      "source": [
        "Writing into file"
      ]
    },
    {
      "cell_type": "code",
      "metadata": {
        "id": "TS_Yzz2UKmRO"
      },
      "source": [
        "def WriteToFile(f,acc_list):\n",
        "   f = open(myname + \"result.txt\", \"w\")\n",
        "   k=0\n",
        "   for acc in acc_list:\n",
        "      label=GetLabel(k)\n",
        "      k=k+1\n",
        "      f.write(label)\n",
        "      for val in acc: \n",
        "        f.write(\"accuracy: %.4f\" % val)\n",
        "   f.close()"
      ],
      "execution_count": 5,
      "outputs": []
    },
    {
      "cell_type": "code",
      "metadata": {
        "id": "67JADuTZLQet"
      },
      "source": [
        "def GetLabel(k):\n",
        "  label='results'\n",
        "  if k==0:\n",
        "    label='Entropy results'\n",
        "  if k==1: \n",
        "     label='Gini Index results'\n",
        "  if k==2:\n",
        "    label='Pre Pruning results'\n",
        "  return label      "
      ],
      "execution_count": 6,
      "outputs": []
    },
    {
      "cell_type": "markdown",
      "metadata": {
        "id": "gS3n04bsOAgt"
      },
      "source": [
        "**Splits data into trainning and test based on the input kth fold**"
      ]
    },
    {
      "cell_type": "code",
      "metadata": {
        "id": "5JP5w-xqZrrd"
      },
      "source": [
        "def GetTrainingAndTestDataForFold(k,folds):\n",
        "            training_set = list()\n",
        "            for j in range(8):\n",
        "                fold = folds[(k + j) % 9]\n",
        "                for data_points in fold:\n",
        "                    training_set.append(data_points)\n",
        "            test_set = folds[9 - k]\n",
        "            return training_set,test_set"
      ],
      "execution_count": 7,
      "outputs": []
    },
    {
      "cell_type": "markdown",
      "metadata": {
        "id": "ekI4Zgj5OKqh"
      },
      "source": [
        "**This method classifies the test set given the model and outputs accuracy**"
      ]
    },
    {
      "cell_type": "code",
      "metadata": {
        "id": "dSN5OoY4Zoad"
      },
      "source": [
        "def Test_Model(model, test_set)  :\n",
        "        results = []\n",
        "        for instance in test_set:\n",
        "            result = model.classify(instance[:-1], model.root)\n",
        "            results.append(result == instance[-1])\n",
        "        # Accuracy\n",
        "        accuracy = float(results.count(True)) / float(len(results))\n",
        "        return accuracy\n"
      ],
      "execution_count": 8,
      "outputs": []
    },
    {
      "cell_type": "markdown",
      "metadata": {
        "id": "pg9pCo_eOWxy"
      },
      "source": [
        "***Defines a Entropy setting where methos is 'Entropy' given trainning and test data it learns a model and calls test model to get the accuracy on test data for the learned model***"
      ]
    },
    {
      "cell_type": "code",
      "metadata": {
        "id": "qhJETMHGZkOL"
      },
      "source": [
        "def Decision_Tree_Entropy_Setting(training_set,test_set):\n",
        "        tree = DecisionTree()\n",
        "        # Construct a tree using training set\n",
        "        tree.root = tree.learn(training_set, 'Entropy')\n",
        "        accuracy=Test_Model(tree,test_set)\n",
        "        return accuracy\n"
      ],
      "execution_count": 9,
      "outputs": []
    },
    {
      "cell_type": "markdown",
      "metadata": {
        "id": "Mz1oq7ANOuce"
      },
      "source": [
        "***Defines a GiniIndex setting where methos is 'GiniIndex' given trainning and test data it learns a model and calls test model to get the accuracy on test data for the learned model***"
      ]
    },
    {
      "cell_type": "code",
      "metadata": {
        "id": "_auHlcASZemI"
      },
      "source": [
        "def Decision_Tree_GiniIndex_Setting(training_set,test_set):\n",
        "        tree = DecisionTree()\n",
        "        tree.min_samples_split=10\n",
        "        # Construct a tree using training set\n",
        "        tree.root = tree.learn(training_set, 'GiniIndex')\n",
        "        accuracy=Test_Model(tree,test_set)\n",
        "        return accuracy"
      ],
      "execution_count": 10,
      "outputs": []
    },
    {
      "cell_type": "markdown",
      "metadata": {
        "id": "IKxCOAWGOzBX"
      },
      "source": [
        "***Defines a Pre Pruning setting where method is 'Entropy' and minimum_sample split is also learned on a validation set, given trainning and test data it learns a model and calls test model to get the accuracy on test data for the learned model***"
      ]
    },
    {
      "cell_type": "code",
      "metadata": {
        "id": "rJVKavQfZazs"
      },
      "source": [
        "def Decision_Tree_PrePruning_Setting(training_set,test_set,sample_size=10):\n",
        "        tree = DecisionTree()\n",
        "        tree.min_samples_split=sample_size\n",
        "        # Construct a tree using training set\n",
        "        tree.root = tree.learn(training_set, 'Entropy')\n",
        "        accuracy=Test_Model(tree,test_set)\n",
        "        return accuracy"
      ],
      "execution_count": 11,
      "outputs": []
    },
    {
      "cell_type": "markdown",
      "metadata": {
        "id": "XHIYdZPtPIqQ"
      },
      "source": [
        "***The model starts with an accuracy in the input and checks if the accuracy improves with different min_sample_sizes it returns the maximum sample size which either increases the accuracy or keeps it the same.For accessing the accuracy it simply divides the sampled data into training and validation set and tests on validation set***"
      ]
    },
    {
      "cell_type": "code",
      "metadata": {
        "id": "tK44x4VP6AMc"
      },
      "source": [
        "def Model_Selection_PrePruning(training_set,accuracy):\n",
        "    start = min_sample = 10\n",
        "    accuracy_list=list()\n",
        "    accuracy_list.append(accuracy)\n",
        "    max_accuracy = accuracy\n",
        "    folds = CreateFoldsWithRandomStartifiedSampling(training_set,10)\n",
        "    training_set, validation_set = GetTrainingAndTestDataForFold(1, folds)\n",
        "    j=int(len(training_set) / start)\n",
        "    for i in range(j):\n",
        "        accuracy = Decision_Tree_PrePruning_Setting(training_set, validation_set, min_sample)\n",
        "        accuracy_list.append(accuracy)\n",
        "        if accuracy < max_accuracy:\n",
        "            tree = DecisionTree()\n",
        "            tree.plot_modelselection(accuracy_list)\n",
        "            return min_sample - start\n",
        "        else:\n",
        "            min_sample = min_sample + start\n",
        "            max_accuracy=accuracy  "
      ],
      "execution_count": 12,
      "outputs": []
    },
    {
      "cell_type": "markdown",
      "metadata": {
        "id": "pT3XlQM0P600"
      },
      "source": [
        "**This create folds method simply takes the data as input and make different folds in that order and returns the folds**"
      ]
    },
    {
      "cell_type": "code",
      "metadata": {
        "id": "KCDKHrZ1ZWD9"
      },
      "source": [
        "def CreateFolds(data, K):\n",
        "        folds = list()\n",
        "        test_set = data\n",
        "        fold_size = int(len(test_set) / K)\n",
        "        for i in range(10):\n",
        "            fold = list()\n",
        "            for j in range(fold_size):\n",
        "                index = i*fold_size+j\n",
        "                fold.append(data[index])\n",
        "            folds.append(fold)\n",
        "        return folds"
      ],
      "execution_count": 13,
      "outputs": []
    },
    {
      "cell_type": "markdown",
      "metadata": {
        "id": "3y2dW3FsQswB"
      },
      "source": [
        "**This method create folds by startifying the data and randomly distributing the data into folds and then returns the folds**"
      ]
    },
    {
      "cell_type": "code",
      "metadata": {
        "id": "b-ypLjXsNXAP"
      },
      "source": [
        "def CreateFoldsWithRandomSampling(data, K):\n",
        "        folds = list()\n",
        "        test_set = data\n",
        "        fold_size = int(len(test_set) / K)\n",
        "        for i in range(9):\n",
        "            fold = list()\n",
        "            while len(fold) < fold_size:\n",
        "                index = randrange(len(test_set))\n",
        "                fold.append(test_set.pop(index))\n",
        "            folds.append(fold)\n",
        "        folds.append(test_set)\n",
        "        return folds"
      ],
      "execution_count": 14,
      "outputs": []
    },
    {
      "cell_type": "markdown",
      "metadata": {
        "id": "utx0qhKwQTQ2"
      },
      "source": [
        "**This method create folds by startifying the data and randomly distributing the data into folds while maintaing the proportions of the classes in each fold and then returns the folds**"
      ]
    },
    {
      "cell_type": "code",
      "metadata": {
        "id": "lP-uYlUzyBgr"
      },
      "source": [
        "def CreateFoldsWithRandomStartifiedSampling(data, K):\n",
        "        folds = list()\n",
        "        test_set = data\n",
        "        dataset = np.array([row for row in data])\n",
        "        unique_class_label = np.unique(dataset[:,np.shape(dataset)[1]-1])\n",
        "        probability_class_label=list()\n",
        "        for class_label in unique_class_label:\n",
        "             probability_class_label.append(len(dataset[:,np.shape(dataset)[1]-1][dataset[:,np.shape(dataset)[1]-1] == class_label]) / len(dataset[:,np.shape(dataset)[1]-1]))\n",
        "        fold_size = int(len(test_set) / K)\n",
        "        proportion_c1=probability_class_label[0]*fold_size \n",
        "        proportion_c2=probability_class_label[1]*fold_size     \n",
        "        \n",
        "        for i in range(9):\n",
        "            fold = list()\n",
        "            while len(fold) < proportion_c1:\n",
        "                index = randrange(len(test_set))\n",
        "                fold.append(test_set.pop(index))\n",
        "            while len(fold) < proportion_c2:\n",
        "                index = randrange(len(test_set))\n",
        "                fold.append(test_set.pop(index))    \n",
        "            folds.append(fold)\n",
        "        folds.append(test_set)\n",
        "        return folds"
      ],
      "execution_count": 15,
      "outputs": []
    },
    {
      "cell_type": "code",
      "metadata": {
        "colab": {
          "base_uri": "https://localhost:8080/",
          "height": 703
        },
        "id": "cXMojHv1ZSAr",
        "outputId": "29658c16-59ca-4f3f-c50a-12cc64336d1b"
      },
      "source": [
        "if __name__ == \"__main__\":\n",
        "        run_decision_tree()"
      ],
      "execution_count": 16,
      "outputs": [
        {
          "name": "stdout",
          "output_type": "stream",
          "text": [
            "Number of records: 4898\n",
            "Accuracy Mean: 0.8194\n",
            "Want Improve accuracy?  \n",
            " 1. Yes(y) \n",
            " 2.No(n)\n",
            "y\n",
            "Select a method \n",
            " 1. GiniIndex \n",
            " 2.Pruning\n",
            "1\n",
            "Accuracy Mean: 0.8022\n",
            "Want Improve accuracy?  \n",
            " 1. Yes(y) \n",
            " 2.No(n)\n",
            "y\n",
            "Select a method \n",
            " 1. GiniIndex \n",
            " 2.Pruning\n",
            "2\n",
            "Accuracy Mean: 0.8352\n",
            "Want Improve accuracy?  \n",
            " 1. Yes(y) \n",
            " 2.No(n)\n",
            "n\n"
          ]
        },
        {
          "output_type": "display_data",
          "data": {
            "image/png": "[encoded data removed]",
            "text/plain": [
              "<Figure size 432x288 with 1 Axes>"
            ]
          },
          "metadata": {
            "needs_background": "light"
          }
        }
      ]
    }
  ]
}